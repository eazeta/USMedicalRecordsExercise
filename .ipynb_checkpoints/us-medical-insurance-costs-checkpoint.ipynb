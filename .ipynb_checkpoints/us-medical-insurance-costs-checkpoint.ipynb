{
 "cells": [
  {
   "cell_type": "markdown",
   "metadata": {},
   "source": [
    "# U.S. Medical Insurance Costs"
   ]
  },
  {
   "cell_type": "code",
   "execution_count": 19,
   "metadata": {},
   "outputs": [],
   "source": [
    "import csv"
   ]
  },
  {
   "cell_type": "code",
   "execution_count": 20,
   "metadata": {
    "scrolled": true
   },
   "outputs": [
    {
     "data": {
      "text/plain": [
       "39.20702541106129"
      ]
     },
     "execution_count": 20,
     "metadata": {},
     "output_type": "execute_result"
    }
   ],
   "source": [
    "with open('insurance.csv', newline='') as insurance_csv:\n",
    "    insurance_csv_dict = csv.DictReader(insurance_csv)\n",
    "    cumulative_age = 0\n",
    "    count = 0\n",
    "    for row in insurance_csv_dict:\n",
    "        cumulative_age += int(row['age'])\n",
    "        count += 1\n",
    "average_age = cumulative_age / count\n",
    "average_age"
   ]
  },
  {
   "cell_type": "markdown",
   "metadata": {},
   "source": [
    "The average age of Customers in the dataset is 39.2"
   ]
  },
  {
   "cell_type": "code",
   "execution_count": 29,
   "metadata": {},
   "outputs": [
    {
     "name": "stdout",
     "output_type": "stream",
     "text": [
      "Northeast: 324 Northwest: 325 Southeast 364 Southwest 325\n",
      "Average:  334.5\n"
     ]
    }
   ],
   "source": [
    "with open('insurance.csv', newline='') as insurance_csv:\n",
    "    insurance_csv_dict = csv.DictReader(insurance_csv)\n",
    "    northeastcount = 0\n",
    "    northwestcount = 0\n",
    "    southeastcount = 0\n",
    "    southwestcount = 0\n",
    "    for row in insurance_csv_dict:\n",
    "        if row['region'] == 'northeast':\n",
    "            northeastcount += 1\n",
    "        elif row['region'] == 'northwest':\n",
    "            northwestcount += 1\n",
    "        elif row['region'] == 'southeast':\n",
    "            southeastcount += 1\n",
    "        elif row['region'] == 'southwest':\n",
    "            southwestcount += 1\n",
    "        else:\n",
    "            print('error')\n",
    "print('Northeast:',northeastcount,'Northwest:',northwestcount,'Southeast',southeastcount,'Southwest',southwestcount)\n",
    "average_customers = (northeastcount + northwestcount + southeastcount + southwestcount)/4\n",
    "print('Average: ',average_customers)"
   ]
  },
  {
   "cell_type": "markdown",
   "metadata": {},
   "source": [
    "Majority of customers reside in the Southeast and the least customers live in the Northeast <br>\n",
    "**Average number of customers per area is 334.5**"
   ]
  },
  {
   "cell_type": "code",
   "execution_count": 43,
   "metadata": {},
   "outputs": [
    {
     "data": {
      "text/plain": [
       "(31341.36, 7611.79, 23729.57, 20.03)"
      ]
     },
     "execution_count": 43,
     "metadata": {},
     "output_type": "execute_result"
    }
   ],
   "source": [
    "with open('insurance.csv', newline='') as insurance_csv:\n",
    "    insurance_csv_dict = csv.DictReader(insurance_csv)\n",
    "    cumulative_smoker_cost = 0\n",
    "    smoker_number = 0\n",
    "    cumulative_nonsmoker_cost = 0\n",
    "    nonsmoker_number = 0\n",
    "    for row in insurance_csv_dict:\n",
    "        if row['smoker'] == 'yes' and int(row['children']) == 0:\n",
    "            smoker_number += 1\n",
    "            cumulative_smoker_cost += float(row['charges'])\n",
    "        elif row['smoker'] == 'no' and int(row['children']) == 0:\n",
    "            nonsmoker_number += 1\n",
    "            cumulative_nonsmoker_cost += float(row['charges'])\n",
    "average_smoker_cost = round(cumulative_smoker_cost / smoker_number, 2)\n",
    "average_nonsmoker_cost = round(cumulative_nonsmoker_cost / nonsmoker_number, 2)\n",
    "difference_in_cost = average_smoker_cost - average_nonsmoker_cost\n",
    "percentage_of_smokers = round(smoker_number / (smoker_number + nonsmoker_number) * 100, 2)\n",
    "\n",
    "average_smoker_cost, average_nonsmoker_cost, difference_in_cost, percentage_of_smokers"
   ]
  },
  {
   "cell_type": "markdown",
   "metadata": {},
   "source": [
    "**Under the assumption that the person has no children** <br>\n",
    "There are more non-smokers than smokers in the dataset. 20.03% of the dataset are smokers whereas 79.97% are non-smokers.<br>\n",
    "On average, a smoker will pay £31,341.36 whereas on a non-smoker will pay £7611.79. This is a difference of £23729.57\n",
    "."
   ]
  },
  {
   "cell_type": "code",
   "execution_count": 52,
   "metadata": {},
   "outputs": [
    {
     "data": {
      "text/plain": [
       "40.0"
      ]
     },
     "execution_count": 52,
     "metadata": {},
     "output_type": "execute_result"
    }
   ],
   "source": [
    "with open('insurance.csv', newline='') as insurance_csv:\n",
    "    insurance_csv_dict = csv.DictReader(insurance_csv)\n",
    "    cumulative_age = 0\n",
    "    count = 0\n",
    "    for row in insurance_csv_dict:\n",
    "        if int(row['children']) != 0:\n",
    "            cumulative_age += int(row['age'])\n",
    "            count += 1\n",
    "    average_age = cumulative_age / count\n",
    "round(average_age,0)"
   ]
  },
  {
   "cell_type": "markdown",
   "metadata": {},
   "source": [
    "The average age of a person with at least 1 child is 40 years old."
   ]
  },
  {
   "cell_type": "markdown",
   "metadata": {},
   "source": [
    "**Comment to myself:** After reviewing this notebook, I've realised there is a better way of doing things. I create dictionaries for each column, it would allow me to analyse it in a more efficient manner."
   ]
  },
  {
   "cell_type": "code",
   "execution_count": 65,
   "metadata": {},
   "outputs": [
    {
     "data": {
      "text/plain": [
       "39.20702541106129"
      ]
     },
     "execution_count": 65,
     "metadata": {},
     "output_type": "execute_result"
    }
   ],
   "source": [
    "import statistics\n",
    "with open('insurance.csv', newline='') as insurance_csv:\n",
    "    insurance_csv_dict = csv.DictReader(insurance_csv)\n",
    "    age = []\n",
    "    sex = []\n",
    "    bmi = []\n",
    "    children = []\n",
    "    smoker = []\n",
    "    region = []\n",
    "    count = 1\n",
    "    for row in insurance_csv_dict:\n",
    "        age.append(int(row['age']))\n",
    "        sex.append(row['sex'])\n",
    "        bmi.append(float(row['bmi']))\n",
    "        children.append(int(row['children']))\n",
    "        smoker.append(row['smoker'])\n",
    "        region.append(row['region'])\n",
    "        count += 1\n",
    "statistics.mean(age)"
   ]
  },
  {
   "cell_type": "code",
   "execution_count": null,
   "metadata": {},
   "outputs": [],
   "source": []
  }
 ],
 "metadata": {
  "kernelspec": {
   "display_name": "Python 3 (ipykernel)",
   "language": "python",
   "name": "python3"
  },
  "language_info": {
   "codemirror_mode": {
    "name": "ipython",
    "version": 3
   },
   "file_extension": ".py",
   "mimetype": "text/x-python",
   "name": "python",
   "nbconvert_exporter": "python",
   "pygments_lexer": "ipython3",
   "version": "3.9.7"
  }
 },
 "nbformat": 4,
 "nbformat_minor": 4
}
